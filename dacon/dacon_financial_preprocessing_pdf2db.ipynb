{
 "cells": [
  {
   "cell_type": "code",
   "execution_count": 1,
   "metadata": {},
   "outputs": [],
   "source": [
    "import sys\n",
    "import os\n",
    "\n",
    "# 패키지 경로 추가 (예: 패키지가 있는 디렉토리)\n",
    "package_path = os.path.abspath('/home/bjh/dacon/pdf/RAG')\n",
    "if package_path not in sys.path:\n",
    "    sys.path.append(package_path)"
   ]
  },
  {
   "cell_type": "code",
   "execution_count": 2,
   "metadata": {},
   "outputs": [],
   "source": [
    "from pymupdf4llm.helpers.pymupdf_rag import to_markdown\n",
    "try:\n",
    "    import pymupdf as fitz\n",
    "except ImportError:\n",
    "    import fitz\n",
    "\n",
    "import string\n",
    "import os\n",
    "import tabula\n",
    "import pypdf"
   ]
  },
  {
   "cell_type": "code",
   "execution_count": 3,
   "metadata": {},
   "outputs": [
    {
     "data": {
      "text/plain": [
       "['/home/bjh/dacon/pdf/dacon/test_source/「FIS 이슈 & 포커스」 22-4호 《중앙-지방 간 재정조정제도》 v2.pdf',\n",
       " '/home/bjh/dacon/pdf/dacon/test_source/「FIS 이슈 & 포커스」 23-2호 《핵심재정사업 성과관리》 v2.pdf',\n",
       " '/home/bjh/dacon/pdf/dacon/test_source/「FIS 이슈 & 포커스」(신규) 통권 제1호 《우발부채》 v2.pdf',\n",
       " '/home/bjh/dacon/pdf/dacon/test_source/「FIS 이슈&포커스」 22-2호 《재정성과관리제도》 v2.pdf',\n",
       " '/home/bjh/dacon/pdf/dacon/test_source/국토교통부_행복주택출자.pdf',\n",
       " '/home/bjh/dacon/pdf/dacon/test_source/보건복지부_노인장기요양보험 사업운영.pdf',\n",
       " '/home/bjh/dacon/pdf/dacon/test_source/보건복지부_부모급여(영아수당) 지원.pdf',\n",
       " '/home/bjh/dacon/pdf/dacon/test_source/산업통상자원부_에너지바우처.pdf',\n",
       " '/home/bjh/dacon/pdf/dacon/test_source/중소벤처기업부_혁신창업사업화자금(융자).pdf']"
      ]
     },
     "execution_count": 3,
     "metadata": {},
     "output_type": "execute_result"
    }
   ],
   "source": [
    "from glob import glob\n",
    "\n",
    "project_path = '/home/bjh/dacon/pdf/dacon'\n",
    "\n",
    "data_file_list = glob(project_path + '/test_source/*')\n",
    "data_file_list.sort()\n",
    "\n",
    "data_file_list"
   ]
  },
  {
   "cell_type": "code",
   "execution_count": 12,
   "metadata": {},
   "outputs": [
    {
     "name": "stdout",
     "output_type": "stream",
     "text": [
      "## 사  업  명\n",
      " 혁신창업사업화자금(융자) (5152-301)\n",
      " 1. 사업 코드 정보\n",
      " 2. 사업 지원 형태 및 지원율\n",
      " 3. 지출계획 총괄표\n",
      "(단위: 백만원, %)\n",
      "\n",
      "## 4. 사업목적\n",
      "ㅇ (창업기반지원) 기술력과 사업성이 우수하고 미래 성장가능성이 높은 중소벤처기업의\n",
      "창업을 활성화하고 고용창출 도모\n",
      "ㅇ (개발기술사업화) 중소기업이 보유한 우수 기술의 사장을 방지하고 개발기술의\n",
      "제품화·사업화를 촉진하여 기술기반 중소기업을 육성\n",
      "## 5. 사업근거 및 추진경위\n",
      "ㅇ 법령상 근거 : 중소기업진흥에 관한 법률 제66조, 제67조, 제74조\n",
      "중소기업창업지원법 제35조\n",
      "\n"
     ]
    }
   ],
   "source": [
    "text = to_markdown(data_file_list[8], page_chunks=True)\n",
    "print(text[0]['text'])"
   ]
  },
  {
   "cell_type": "markdown",
   "metadata": {},
   "source": [
    "# 1. Utils"
   ]
  },
  {
   "cell_type": "code",
   "execution_count": 7,
   "metadata": {},
   "outputs": [],
   "source": [
    "import io\n",
    "import matplotlib.pyplot as plt\n",
    "from PIL import Image\n",
    "\n",
    "\n",
    "# check mediabox == rect == crop\n",
    "def check(page):\n",
    "    mediaW,mediaH = page.mediabox.width, page.mediabox.height\n",
    "    rectW,rectH = page.rect.width, page.rect.height\n",
    "    cropW,cropH = page.cropbox.width, page.cropbox.height\n",
    "    flag = (mediaW == rectW) and (rectW == cropW) and (mediaH == rectH) and (rectH == cropH)\n",
    "    return flag, mediaW, mediaH\n",
    "\n",
    "\n",
    "def pdf_visualize(page, rect, matrix=[4, 4], figsize = (11,15),show=True):\n",
    "\n",
    "    # 페이지 일부를 이미지로 변환\n",
    "    matrix = fitz.Matrix(*matrix) # 해상도 높이기\n",
    "    pix = page.get_pixmap(clip=rect, matrix=matrix)\n",
    "\n",
    "\n",
    "    # 이미지 데이터를 PIL 이미지로 변환\n",
    "    img = Image.open(io.BytesIO(pix.tobytes()))\n",
    "\n",
    "    # 이미지를 Jupyter Notebook에서 바로 표시\n",
    "    if show:\n",
    "        plt.figure(figsize=figsize)\n",
    "        plt.imshow(img)\n",
    "        plt.axis('off')  # 축 숨기기\n",
    "        plt.show()\n",
    "\n",
    "    return pix"
   ]
  },
  {
   "cell_type": "markdown",
   "metadata": {},
   "source": [
    "# 2. file read"
   ]
  },
  {
   "cell_type": "markdown",
   "metadata": {},
   "source": [
    "## 2.1 트리 클래스 정의(목차 구조)"
   ]
  },
  {
   "cell_type": "code",
   "execution_count": 9,
   "metadata": {},
   "outputs": [],
   "source": [
    "class Node:\n",
    "    def __init__(self, title, page, contents=None, parent=None, children=None, level=0, next_=None):\n",
    "        self.title = title\n",
    "        self.page = page\n",
    "        self.contents = contents if contents is not None else list()\n",
    "        self.tables = []\n",
    "        self.parent = parent\n",
    "        self.children = children if children is not None else dict()\n",
    "        self.level = level\n",
    "        self.next = next_\n",
    "\n",
    "    def add_child(self, child:'Node'):\n",
    "        child.parent = self\n",
    "        self.children[len(self.children)] = child\n",
    "\n",
    "    def __repr__(self):\n",
    "        return self.title\n",
    "    \n",
    "    def is_in_page(self, pno):\n",
    "        if pno >= self.page[0] and pno <= self.page[1]:\n",
    "            return True\n",
    "        \n",
    "    def is_leaf(self):\n",
    "        return len(self.children) <= 0 \n",
    "    \n",
    "    def display_tree(self, level=0):\n",
    "        ret = \"\\t\" * level + f\"{self.title} ({self.page})\" + \"\\n\"\n",
    "        for i, child in self.children.items():\n",
    "            ret += child.display_tree(level + 1)\n",
    "        return ret\n",
    "    \n",
    "    def print_contents(self, level=0):\n",
    "        ret = f\"level:{level}\" + f\"{self.title} ({self.page})\" + \"\\n\" + \"contents: \"\n",
    "        for c in self.contents:\n",
    "            ret += c + '\\n'\n",
    "        ret += '\\n======\\n\\n'\n",
    "        for i, child in self.children.items():\n",
    "            ret += child.print_contents(level + 1)\n",
    "        return ret\n",
    "    \n",
    "class Tree:\n",
    "    def __init__(self, root):\n",
    "        self.tree = root\n",
    "    \n",
    "    def display_tree(self, level=0):\n",
    "        return self.tree.display_tree(level)\n",
    "    \n",
    "    def print_contents(self, level=0):\n",
    "        return self.tree.print_contents(level)\n",
    "    \n",
    "    def get_nodes(self, pno, nodes=[], curr=None):\n",
    "        if curr is None:\n",
    "            curr = self.tree\n",
    "            nodes.clear()\n",
    "\n",
    "        if curr.is_in_page(pno):\n",
    "            nodes.append(curr)\n",
    "        \n",
    "        if not curr.is_leaf():\n",
    "            for _, child in curr.children.items():\n",
    "                self.get_nodes( pno, nodes, child)\n",
    "        return nodes\n",
    "    \n",
    "    def to_list(self, treeL=[], curr=None):\n",
    "        if curr is None:\n",
    "            curr = self.tree\n",
    "            treeL.clear()\n",
    "        \n",
    "        treeL.append(curr)\n",
    "        if not curr.is_leaf():\n",
    "            for _, child in curr.children.items():\n",
    "                self.to_list( treeL, child)\n",
    "\n",
    "        return treeL\n",
    "\n"
   ]
  },
  {
   "cell_type": "markdown",
   "metadata": {},
   "source": [
    "## 2.2 목차 형식으로 읽는 함수(** 목차의 텍스트가 본문에 그대로 존재해야함)"
   ]
  },
  {
   "cell_type": "code",
   "execution_count": 10,
   "metadata": {},
   "outputs": [],
   "source": [
    "from copy import deepcopy\n",
    "import re\n",
    "from langchain.docstore.document import Document\n",
    "\n",
    "def build_tree_from_file(file_path):\n",
    "    root = None\n",
    "    node_stack = []\n",
    "    prev_node = None\n",
    "    \n",
    "    with open(file_path, 'r') as f:\n",
    "        lines = f.readlines()\n",
    "        for line in lines:\n",
    "            # 공백 제거\n",
    "            line = line.rstrip()\n",
    "            if not line:\n",
    "                continue\n",
    "\n",
    "            # 들여쓰기의 수를 계산\n",
    "            indent_level = (len(line) - len(line.lstrip())) / 4 # \\t\n",
    "            line = line.lstrip()\n",
    "\n",
    "            title, page1, page2 = line.split('::')\n",
    "            title, page1, page2 = title.strip(), int(page1.strip()), int(page2.strip())\n",
    "\n",
    "            new_node = Node(title, (page1, page2))\n",
    "            if prev_node is not None:\n",
    "                prev_node.next = new_node\n",
    "\n",
    "            if indent_level == 0:\n",
    "                # 루트 노드 설정\n",
    "                root = new_node\n",
    "                node_stack = [root]\n",
    "            else:\n",
    "                # 현재 노드의 부모 노드 찾기\n",
    "                while len(node_stack) > indent_level:\n",
    "                    node_stack.pop()\n",
    "\n",
    "                parent_node = node_stack[-1]\n",
    "                parent_node.add_child(new_node)\n",
    "                new_node.parent = parent_node\n",
    "                new_node.level = len(node_stack)\n",
    "\n",
    "                # 스택에 현재 노드를 추가\n",
    "                node_stack.append(new_node)\n",
    "                prev_node = new_node\n",
    "\n",
    "    return root\n",
    "\n",
    "def make_tree_contents(doc, table_contents_0):\n",
    "    pno = 0\n",
    "    table_contents = deepcopy(table_contents_0)\n",
    "    curr = table_contents.tree\n",
    "    doc_c =deepcopy(doc)\n",
    "    page = doc_c[pno]\n",
    "\n",
    "    for nxt in table_contents.to_list()[1:]:\n",
    "        while not nxt.is_in_page(pno):\n",
    "            curr.contents.append(page['text'])\n",
    "            curr.tables += page[\"tables_s\"]\n",
    "            pno += 1\n",
    "            if pno < len(doc_c): page = doc_c[pno] \n",
    "            else: break\n",
    "        if nxt.is_in_page(pno):\n",
    "            # pattern = r'[\\*\\s]*'.join(map(re.escape, nxt.title.split()))\n",
    "            pattern = ''.join([re.escape(char) + r'(?:\\*+|\\s+|\\[\\d+\\)\\])*' for word in nxt.title.split() for char in word])\n",
    "            # pattern = r'(?:\\s*\\[\\d+\\)\\]\\s*)?([^\\[\\]]+)'\n",
    "            match = re.search(pattern, page['text'])\n",
    "            \n",
    "            t1, t2 = page['text'][:match.start()], page['text'][match.end():]\n",
    "\n",
    "            match_t = len(re.findall('<표', t1))\n",
    "            if t1 != '': curr.contents.append(t1)\n",
    "            if match_t > 0:\n",
    "                curr.tables += page['tables_s'][:match_t]\n",
    "                page['tables_s'] = page['tables_s'][match_t:]\n",
    "            page['text'] = t2\n",
    "            \n",
    "        curr = nxt\n",
    "\n",
    "    curr.contents.append(page['text'])\n",
    "    pno += 1\n",
    "    while pno < len(doc_c):\n",
    "        page = doc_c[pno]\n",
    "        curr.contents.append(page['text'])\n",
    "        pno += 1\n",
    "\n",
    "    return table_contents\n",
    "\n",
    "\n",
    "def split_docs(table_contents, splited_documents, text_splitter):\n",
    "    def get_title(node):\n",
    "        title = node.title\n",
    "        while node.parent is not None:\n",
    "            title = node.parent.title + \" > \" + title\n",
    "            node = node.parent\n",
    "        return title\n",
    "\n",
    "    for node in table_contents.to_list():\n",
    "        \n",
    "        title = get_title(node)\n",
    "        \n",
    "        text = '\\n'.join(node.contents).replace(\"#\", \"\")\n",
    "        text =  re.sub(r'[#\\*]+', '', text) # 약간의 전처리\n",
    "\n",
    "        if text != '':\n",
    "            # tables. do not split tables\n",
    "            pattern = r'^.*<표.*$'\n",
    "            matches = re.findall(pattern, text, re.MULTILINE)\n",
    "            tables = [title + '\\n' + ti + '\\n' + ta  for ti, ta in zip(matches, node.tables) ]\n",
    "            for t in tables:\n",
    "                splited_documents.append(Document(page_content=t, metadata={\"title\": title}))\n",
    "            \n",
    "            for spd in text_splitter.split_documents([Document(page_content=text, metadata={\"title\": title})]):\n",
    "                spd.page_content = title + '\\n' + spd.page_content\n",
    "                splited_documents.append(spd)"
   ]
  },
  {
   "cell_type": "markdown",
   "metadata": {},
   "source": [
    "## 2.3 목차가 존재하는 문서 읽기"
   ]
  },
  {
   "cell_type": "code",
   "execution_count": 16,
   "metadata": {},
   "outputs": [
    {
     "name": "stderr",
     "output_type": "stream",
     "text": [
      "4it [00:10,  2.56s/it]\n"
     ]
    }
   ],
   "source": [
    "from langchain.text_splitter import RecursiveCharacterTextSplitter\n",
    "from langchain.docstore.document import Document\n",
    "from tqdm import tqdm\n",
    "\n",
    "text_splitter = RecursiveCharacterTextSplitter(chunk_size=500, chunk_overlap=50, separators=[\"\\n\\n\", \"- \", \"\\n\",  \" \", \"\"])\n",
    "\n",
    "# 문서에 목차가 존재하는 경우\n",
    "contenns_table_paths = [\n",
    "    '「FIS 이슈 & 포커스」 22-4호 《중앙-지방 간 재정조정제도》.txt',\n",
    "    '「FIS 이슈 & 포커스」 23-2호 《핵심재정사업 성과관리》.txt',\n",
    "    '「FIS 이슈 & 포커스」(신규) 통권 제1호 《우발부채》.txt',\n",
    "    '「FIS 이슈&포커스」 22-2호 《재정성과관리제도》.txt'\n",
    "]\n",
    "\n",
    "pdf_file_paths = [\n",
    "    '「FIS 이슈 & 포커스」 22-4호 《중앙-지방 간 재정조정제도》 v2.pdf',\n",
    "    '「FIS 이슈 & 포커스」 23-2호 《핵심재정사업 성과관리》 v2.pdf',\n",
    "    '「FIS 이슈 & 포커스」(신규) 통권 제1호 《우발부채》 v2.pdf',\n",
    "    '「FIS 이슈&포커스」 22-2호 《재정성과관리제도》 v2.pdf'\n",
    "]\n",
    "\n",
    "splited_documents = []\n",
    "\n",
    "for pdfP, ctP in tqdm(zip(pdf_file_paths, contenns_table_paths)):\n",
    "    ctP = project_path+'/test_source_contents_tables/'+ctP\n",
    "    pdfP = project_path+'/test_source/'+pdfP\n",
    "\n",
    "    table_contents_0 = Tree(build_tree_from_file(ctP))\n",
    "    doc = to_markdown(pdfP, page_chunks=True, margins=(0, 70, 0, 70))\n",
    "\n",
    "    table_contents = make_tree_contents(doc, table_contents_0)\n",
    "    split_docs(table_contents, splited_documents, text_splitter)"
   ]
  },
  {
   "cell_type": "markdown",
   "metadata": {},
   "source": [
    "## 2.4 목차가 존재하지 않는 문서 읽기"
   ]
  },
  {
   "cell_type": "code",
   "execution_count": 15,
   "metadata": {},
   "outputs": [
    {
     "name": "stderr",
     "output_type": "stream",
     "text": [
      "  0%|          | 0/5 [00:00<?, ?it/s]"
     ]
    },
    {
     "name": "stderr",
     "output_type": "stream",
     "text": [
      "100%|██████████| 5/5 [00:15<00:00,  3.16s/it]\n"
     ]
    }
   ],
   "source": [
    "file_paths = [\n",
    "    '/home/bjh/dacon/pdf/RAG/test_source/국토교통부_행복주택출자.pdf',\n",
    "    '/home/bjh/dacon/pdf/RAG/test_source/보건복지부_노인장기요양보험 사업운영.pdf',\n",
    "    '/home/bjh/dacon/pdf/RAG/test_source/보건복지부_부모급여(영아수당) 지원.pdf',\n",
    "    '/home/bjh/dacon/pdf/RAG/test_source/산업통상자원부_에너지바우처.pdf',\n",
    "    '/home/bjh/dacon/pdf/RAG/test_source/중소벤처기업부_혁신창업사업화자금(융자).pdf'\n",
    "]\n",
    "splited_documents2 = []\n",
    "text_splitter2 = RecursiveCharacterTextSplitter(chunk_size=500, chunk_overlap=50, separators=[\"\\n\\n\\n\\n\", \"\\n\\n\\n\", \"\\n\\n\", \"#\", \"- \", \"\\n\",  \" \", \"\"])\n",
    "\n",
    "\n",
    "for file_path in tqdm(file_paths):\n",
    "    title = file_path.split(\"/\")[-1].replace(\".pdf\", \"\")\n",
    "    doc_ = to_markdown(pdfP, margins=(0, 70, 0, 70))\n",
    "    splited_documents2 += text_splitter2.split_documents([Document(page_content=doc_, metadata={\"title\": title})])"
   ]
  },
  {
   "cell_type": "markdown",
   "metadata": {},
   "source": [
    "# 3 db 저장"
   ]
  },
  {
   "cell_type": "code",
   "execution_count": null,
   "metadata": {},
   "outputs": [],
   "source": [
    "splited_documents, splited_documents2"
   ]
  },
  {
   "cell_type": "code",
   "execution_count": 36,
   "metadata": {},
   "outputs": [],
   "source": [
    "import pickle\n",
    "\n",
    "data = splited_documents + splited_documents2\n",
    "with open(\"./tot_documnets.pkl\", \"wb\") as f:\n",
    "    pickle.dump(data, f)"
   ]
  },
  {
   "cell_type": "code",
   "execution_count": null,
   "metadata": {},
   "outputs": [],
   "source": [
    "with open(\"./tot_documnets.pkl\", \"rb\") as f:\n",
    "    loaded_data = pickle.load(f)\n",
    "\n",
    "loaded_data"
   ]
  }
 ],
 "metadata": {
  "kernelspec": {
   "display_name": "pymupdf",
   "language": "python",
   "name": "python3"
  },
  "language_info": {
   "codemirror_mode": {
    "name": "ipython",
    "version": 3
   },
   "file_extension": ".py",
   "mimetype": "text/x-python",
   "name": "python",
   "nbconvert_exporter": "python",
   "pygments_lexer": "ipython3",
   "version": "3.10.14"
  }
 },
 "nbformat": 4,
 "nbformat_minor": 2
}
